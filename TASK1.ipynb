{
 "cells": [
  {
   "cell_type": "code",
   "execution_count": 1,
   "id": "9911fab9",
   "metadata": {
    "scrolled": true
   },
   "outputs": [],
   "source": [
    "#import\n",
    "from qiskit import QuantumCircuit, Aer, QuantumRegister, ClassicalRegister, execute\n",
    "import numpy as np\n",
    "from qiskit.circuit.library import QFT\n",
    "\n",
    "# convert number into binary numbers\n",
    "def set_input_state(a,b,t):\n",
    "    \n",
    "    # I have chossen not 4 bits as it overflows when addition crosses 15\n",
    "    get_binary = lambda x : '{0:{fill}6b}'.format(x, fill='0')\n",
    "    \n",
    "    a_binary = get_binary(a)\n",
    "    b_binary = get_binary(b)\n",
    "    t_binary = get_binary(t)\n",
    "    \n",
    "    max_len = len(a_binary)\n",
    "    max_len1 = len(t_binary)\n",
    "\n",
    "    r_a = QuantumRegister(max_len,  'a')\n",
    "    r_b = QuantumRegister(max_len,  'b')\n",
    "    r_t = QuantumRegister(max_len1,  't')\n",
    "    anc = QuantumRegister(max_len, 'anc')\n",
    "    flag = QuantumRegister(1, 'f')\n",
    "\n",
    "    cr = ClassicalRegister(1, 'c')\n",
    "    qc = QuantumCircuit(r_a, r_b, r_t, cr,anc,flag)\n",
    "    \n",
    "    for i in range(max_len):\n",
    "        if a_binary[i] == '1':\n",
    "            qc.x(r_a[max_len-1-i])\n",
    "        if b_binary[i] == '1':\n",
    "            qc.x(r_b[max_len-1-i])\n",
    "            \n",
    "    for i in range(max_len1):  \n",
    "        if t_binary[i] == '1':\n",
    "            qc.x(r_t[max_len-1-i])\n",
    "            \n",
    "    return qc, r_a, r_b, r_t, cr, max_len, max_len1, anc, flag\n",
    "\n",
    "\n",
    "# phases to be applied\n",
    "def calcPhase(control_q, target_q, num_qubits):\n",
    "    \n",
    "    k = num_qubits - target_q\n",
    "    phase = ((2 * np.pi) * (2 ** control_q)) / (2 ** k)\n",
    "    \n",
    "    return phase\n",
    "\n",
    "\n",
    "def find_the_primes_numbers (target: int, list_number):\n",
    "    for a in list_number:\n",
    "        for b in list_number:\n",
    "            qc, r_a, r_b, r_t, cr, max_len, max_len1, anc, flag = set_input_state(a, b, target)\n",
    "            \n",
    "            #qc.barrier()\n",
    "            n = max_len\n",
    "            # applying QFT\n",
    "            qc.append(QFT(n), r_a)\n",
    "            for i in range(0,n):\n",
    "                for j in range(n - i):\n",
    "                    phase = calcPhase(control_q = i, target_q = j, num_qubits = n)\n",
    "                    if phase == 2 * np.pi:\n",
    "                        break\n",
    "                    qc.cp(phase, r_b[i], r_a[j])\n",
    "                qc.barrier()\n",
    "            \n",
    "            qc.append(QFT(n).inverse(), r_a)\n",
    "        \n",
    "            qc.barrier()\n",
    "            \n",
    "            #oracle for comparison \n",
    "            for i in range(max_len):\n",
    "                qc.cx(r_a[i], anc[i])\n",
    "                qc.cx(r_t[i], anc[i])\n",
    "                qc.barrier()\n",
    "            qc.x(anc)\n",
    "            qc.mcx(anc, flag)\n",
    "            \n",
    "            #display(qc.draw('mpl'))\n",
    "            \n",
    "           \n",
    "            qc.measure(flag, cr)\n",
    "\n",
    "                    \n",
    "            #display(qc.draw('mpl'))\n",
    "            backend = Aer.get_backend('qasm_simulator')\n",
    "            job = execute(qc, backend, shots = 100)\n",
    "            result = job.result()\n",
    "            counts = result.get_counts(qc)\n",
    "            # using the oracle for comparing target with sum \n",
    "            if int(max(counts, key=counts.get), 2) == 1:\n",
    "                return a, b\n",
    "            #print(counts)  "
   ]
  },
  {
   "cell_type": "code",
   "execution_count": 2,
   "id": "53346998",
   "metadata": {},
   "outputs": [
    {
     "name": "stdout",
     "output_type": "stream",
     "text": [
      "(3, 15)\n"
     ]
    }
   ],
   "source": [
    "A = find_the_primes_numbers  (18,[1,3,5,7,11,13,15])\n",
    "print(A)"
   ]
  },
  {
   "cell_type": "code",
   "execution_count": null,
   "id": "fcae5f2a",
   "metadata": {},
   "outputs": [],
   "source": []
  }
 ],
 "metadata": {
  "kernelspec": {
   "display_name": "Python 3 (ipykernel)",
   "language": "python",
   "name": "python3"
  },
  "language_info": {
   "codemirror_mode": {
    "name": "ipython",
    "version": 3
   },
   "file_extension": ".py",
   "mimetype": "text/x-python",
   "name": "python",
   "nbconvert_exporter": "python",
   "pygments_lexer": "ipython3",
   "version": "3.11.4"
  }
 },
 "nbformat": 4,
 "nbformat_minor": 5
}
