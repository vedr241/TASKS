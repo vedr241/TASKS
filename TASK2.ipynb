{
 "cells": [
  {
   "cell_type": "code",
   "execution_count": 1,
   "id": "e0b7abf5",
   "metadata": {},
   "outputs": [],
   "source": [
    "#import\n",
    "import numpy as np\n",
    "from numpy import linalg as LA\n",
    "import matplotlib.pyplot as plt\n",
    "from qiskit import QuantumRegister, ClassicalRegister, QuantumCircuit\n",
    "from qiskit.quantum_info import Statevector\n",
    "from qiskit import Aer, execute\n",
    "from qiskit.circuit.library import MCXGate\n",
    "from qiskit import QuantumCircuit, QuantumRegister, Aer, transpile"
   ]
  },
  {
   "cell_type": "code",
   "execution_count": 2,
   "id": "2b0ae63e",
   "metadata": {},
   "outputs": [],
   "source": [
    "#CORRECT OFR IMPLEMENTING NEAGTIVE NUMBER \n",
    "import numpy as np\n",
    "def to_twoscomplement(bits, value):\n",
    "    if value < 0:\n",
    "        value = ( 1<<bits ) + value\n",
    "    formatstring = '{:0%ib}' % bits\n",
    "    return formatstring.format(value)"
   ]
  },
  {
   "cell_type": "code",
   "execution_count": 3,
   "id": "5cbb0a14",
   "metadata": {},
   "outputs": [],
   "source": [
    "# qram for storing numbers with indices\n",
    "def forward_qram_n(qc, addr , mem, n,m, input_vector): \n",
    "    for (i, x) in enumerate(input_vector):\n",
    "        add_x = []\n",
    "        for (j, bit) in enumerate(to_twoscomplement(n, i)):\n",
    "            if bit == '0': add_x.append(addr[j])\n",
    "        if add_x: qc.x(add_x)\n",
    "        target = []\n",
    "        for (j, bit) in enumerate(to_twoscomplement(m, x)):\n",
    "            if bit == '1': target.append(mem[j])\n",
    "        for register in target: \n",
    "            qc.mcx(addr, register)\n",
    "        if add_x: qc.x(add_x)\n",
    "        qc.barrier(mem, addr)"
   ]
  },
  {
   "cell_type": "code",
   "execution_count": 4,
   "id": "4e40553f",
   "metadata": {},
   "outputs": [],
   "source": [
    "# oracle for taget state \n",
    "def oracle_n(qc, clause, mem, m, output):\n",
    "    clause_binary = to_twoscomplement(m, clause)[::-1]\n",
    "    qc.append(MCXGate(m, ctrl_state=clause_binary), mem[0:m] + [output]) "
   ]
  },
  {
   "cell_type": "code",
   "execution_count": 5,
   "id": "3134c288",
   "metadata": {},
   "outputs": [],
   "source": [
    "# diffuser \n",
    "def diffuser(nqubits):\n",
    "    qc = QuantumCircuit(nqubits)\n",
    "    # Apply transformation |s> -> |00..0> (H-gates)\n",
    "    for qubit in range(nqubits):\n",
    "        qc.h(qubit)\n",
    "    # Apply transformation |00..0> -> |11..1> (X-gates)\n",
    "    for qubit in range(nqubits):\n",
    "        qc.x(qubit)\n",
    "    # Do multi-controlled-Z gate\n",
    "    qc.h(nqubits-1)\n",
    "    qc.mct(list(range(nqubits-1)), nqubits-1)  # multi-controlled-toffoli\n",
    "    qc.h(nqubits-1)\n",
    "    # Apply transformation |11..1> -> |00..0>\n",
    "    for qubit in range(nqubits):\n",
    "        qc.x(qubit)\n",
    "    # Apply transformation |00..0> -> |s>\n",
    "    for qubit in range(nqubits):\n",
    "        qc.h(qubit)\n",
    "    # We will return the diffuser as a gate\n",
    "    return qc"
   ]
  },
  {
   "cell_type": "code",
   "execution_count": 6,
   "id": "9553c1d6",
   "metadata": {},
   "outputs": [],
   "source": [
    "# Input List\n",
    "input_vector = [-15,-14,2,-1]"
   ]
  },
  {
   "cell_type": "code",
   "execution_count": 7,
   "id": "b4ebd21b",
   "metadata": {},
   "outputs": [],
   "source": [
    "# Determing taget state\n",
    "for num in input_vector:\n",
    "    if num <= 0:\n",
    "        negative_number = num\n",
    "\n",
    "clause = negative_number"
   ]
  },
  {
   "cell_type": "code",
   "execution_count": 8,
   "id": "4adf717a",
   "metadata": {},
   "outputs": [
    {
     "name": "stdout",
     "output_type": "stream",
     "text": [
      "True\n"
     ]
    }
   ],
   "source": [
    "# number of qbits for indices\n",
    "n = int(np.ceil(np.log2(len(input_vector))))\n",
    "# number of qbits for large negative numbers\n",
    "m = 8\n",
    "addr = QuantumRegister(n,'addr')\n",
    "mem = QuantumRegister(m, 'mem')\n",
    "c = ClassicalRegister(n)\n",
    "qc = QuantumCircuit(addr,mem,c)\n",
    "output_qubit = QuantumRegister(1, name='out')\n",
    "qc = QuantumCircuit(addr, mem, output_qubit, c)\n",
    "qc.initialize([1, -1]/np.sqrt(2), output_qubit)    \n",
    "qc.h(addr)\n",
    "\n",
    "qc.barrier() \n",
    "forward_qram_n(qc, addr, mem, n,m, input_vector)\n",
    "\n",
    "oracle_n(qc, clause, mem, m, output_qubit)\n",
    "qc.barrier() \n",
    "forward_qram_n(qc, addr, mem, n,m, input_vector)\n",
    "\n",
    "qc.append(diffuser(n), addr)\n",
    "forward_qram_n(qc, addr, mem, n,m, input_vector)\n",
    "\n",
    "oracle_n(qc, clause, mem, m, output_qubit)\n",
    "qc.barrier() \n",
    "forward_qram_n(qc, addr, mem, n,m, input_vector)\n",
    "\n",
    "qc.append(diffuser(n), addr)\n",
    "forward_qram_n(qc, addr, mem, n,m, input_vector)\n",
    "\n",
    "oracle_n(qc, clause, mem, m, output_qubit)\n",
    "qc.barrier() \n",
    "forward_qram_n(qc, addr, mem, n,m, input_vector)\n",
    "\n",
    "qc.append(diffuser(n), addr)\n",
    "forward_qram_n(qc, addr, mem, n,m, input_vector)\n",
    "\n",
    "oracle_n(qc, clause, mem, m, output_qubit)\n",
    "qc.barrier() \n",
    "forward_qram_n(qc, addr, mem, n,m, input_vector)\n",
    "\n",
    "qc.append(diffuser(n), addr)\n",
    "\n",
    "qc.measure(addr, c[0:n])\n",
    "#qc.measure(mem, c[n:n])\n",
    "\n",
    "\n",
    "qc = qc.reverse_bits()\n",
    "\n",
    "aer_sim = Aer.get_backend('aer_simulator')\n",
    "compiled_circuit = transpile(qc, aer_sim)\n",
    "result = aer_sim.run(compiled_circuit).result()\n",
    "counts = result.get_counts()\n",
    "indice= int(max(counts, key=counts.get), 2)\n",
    "candidate = input_vector[indice]\n",
    "if clause == candidate:\n",
    "    print(True)"
   ]
  },
  {
   "cell_type": "code",
   "execution_count": null,
   "id": "cb5293d0",
   "metadata": {},
   "outputs": [],
   "source": []
  }
 ],
 "metadata": {
  "kernelspec": {
   "display_name": "Python 3 (ipykernel)",
   "language": "python",
   "name": "python3"
  },
  "language_info": {
   "codemirror_mode": {
    "name": "ipython",
    "version": 3
   },
   "file_extension": ".py",
   "mimetype": "text/x-python",
   "name": "python",
   "nbconvert_exporter": "python",
   "pygments_lexer": "ipython3",
   "version": "3.11.4"
  }
 },
 "nbformat": 4,
 "nbformat_minor": 5
}
